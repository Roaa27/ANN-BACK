{
 "cells": [
  {
   "cell_type": "code",
   "execution_count": 5,
   "id": "d5eef970-098b-4e2a-927e-a3d711bcaea4",
   "metadata": {},
   "outputs": [
    {
     "name": "stdout",
     "output_type": "stream",
     "text": [
      "Output after forward propagation: 0.6881846098569957\n"
     ]
    }
   ],
   "source": [
    "import random\n",
    "import math\n",
    "\n",
    "W1 = [[random.uniform(-0.5, 0.5) for _ in range(2)] for _ in range(2)]\n",
    "W2 = [random.uniform(-0.5, 0.5) for _ in range(2)]\n",
    "\n",
    "b1 = [0.5, 0.7]\n",
    "b2 = 0.7\n",
    "\n",
    "def tanh(x):\n",
    "    return math.tanh(x)\n",
    "\n",
    "def tanh_derivative(x):\n",
    "    return 1.0 - math.tanh(x) ** 2\n",
    "\n",
    "def dot_product(weights, inputs):\n",
    "    return sum(w * i for w, i in zip(weights, inputs))\n",
    "\n",
    "def forward_propagation(X):\n",
    "    Z1 = [dot_product(W1[i], X) + b1[i] for i in range(2)]\n",
    "    A1 = [tanh(z) for z in Z1]\n",
    "    Z2 = dot_product(W2, A1) + b2\n",
    "    A2 = tanh(Z2)\n",
    "    return Z1, A1, Z2, A2\n",
    "\n",
    "def backpropagation(X, Y, Z1, A1, Z2, A2, learning_rate=0.1):\n",
    "    dZ2 = A2 - Y\n",
    "    dW2 = [a * dZ2 for a in A1]\n",
    "    db2 = dZ2\n",
    "    dA1 = [W2[i] * dZ2 for i in range(2)]\n",
    "    dZ1 = [dA1[i] * tanh_derivative(Z1[i]) for i in range(2)]\n",
    "    dW1 = [[X[j] * dZ1[i] for j in range(2)] for i in range(2)]\n",
    "    db1 = dZ1\n",
    "    global W1, W2, b1, b2\n",
    "    W2 = [W2[i] - learning_rate * dW2[i] for i in range(2)]\n",
    "    W1 = [[W1[i][j] - learning_rate * dW1[i][j] for j in range(2)] for i in range(2)]\n",
    "    b2 -= learning_rate * db2\n",
    "    b1 = [b1[i] - learning_rate * db1[i] for i in range(2)]\n",
    "\n",
    "X = [0.1, 0.2]\n",
    "Y = 0.5\n",
    "\n",
    "Z1, A1, Z2, A2 = forward_propagation(X)\n",
    "backpropagation(X, Y, Z1, A1, Z2, A2)\n",
    "\n",
    "print(\"Output after forward propagation:\", A2)"
   ]
  },
  {
   "cell_type": "code",
   "execution_count": null,
   "id": "5f09b41d-52dc-4f2e-bff2-3f0c5fe3068d",
   "metadata": {},
   "outputs": [],
   "source": []
  }
 ],
 "metadata": {
  "kernelspec": {
   "display_name": "Python 3 (ipykernel)",
   "language": "python",
   "name": "python3"
  },
  "language_info": {
   "codemirror_mode": {
    "name": "ipython",
    "version": 3
   },
   "file_extension": ".py",
   "mimetype": "text/x-python",
   "name": "python",
   "nbconvert_exporter": "python",
   "pygments_lexer": "ipython3",
   "version": "3.12.4"
  }
 },
 "nbformat": 4,
 "nbformat_minor": 5
}
